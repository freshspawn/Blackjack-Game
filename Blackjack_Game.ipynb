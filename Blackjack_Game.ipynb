{
 "cells": [
  {
   "cell_type": "markdown",
   "metadata": {},
   "source": [
    "### Implement Card Class"
   ]
  },
  {
   "cell_type": "code",
   "execution_count": 5,
   "metadata": {},
   "outputs": [],
   "source": [
    "class Card:\n",
    "    #Declare our class variables\n",
    "    suit = {'Hearts' , 'Diamonds' , 'Spades' , 'Clubs'}\n",
    "\n",
    "    ranks = ('Two', 'Three', 'Four', 'Five', 'Six', \n",
    "             'Seven', 'Eight', 'Nine', 'Ten', 'Jack', \n",
    "             'Queen', 'King', 'Ace')\n",
    "    \n",
    "    #Set the default ace value to 11 (We will change ace value if sum > 21)\n",
    "    values = {'Two':2, 'Three':3, 'Four':4, 'Five':5, 'Six':6, 'Seven':7, 'Eight':8, \n",
    "            'Nine':9, 'Ten':10, 'Jack':10, 'Queen':10, 'King':10, 'Ace':11}\n",
    "    \n",
    "\n",
    "    def __init__(self, suit, rank):\n",
    "        self.suit = suit\n",
    "        self.rank = rank\n",
    "        self.value = Card.values[rank]\n",
    "\n",
    "\n",
    "    def __str__(self):\n",
    "        return f'{self.rank} of {self.suit}'"
   ]
  },
  {
   "cell_type": "markdown",
   "metadata": {},
   "source": [
    "### Implement Deck Class"
   ]
  },
  {
   "cell_type": "code",
   "execution_count": null,
   "metadata": {},
   "outputs": [],
   "source": [
    "#Use to shuffle a deck of cards\n",
    "import random\n",
    "\n",
    "class Deck:\n",
    "\n",
    "    def __init__(self):\n",
    "        self.all_cards = []\n",
    "\n",
    "        #Iterate through the suits and ranks and create a deck\n",
    "        for suit in Card.suits:\n",
    "            for rank in Card.ranks:\n",
    "                create_card = Card(suit, rank)\n",
    "                self.all_cards.append(create_card)\n",
    "    \n",
    "    #Doesn't need to return anything because random shuffules self.all_cards\n",
    "    def shuffle(self):\n",
    "         random.shuffle(self.all_cards)\n",
    "\n",
    "\n",
    "\n",
    "    def deal_one(self):\n",
    "        #Doesnt matter where we pop from since we shuffled cards \n",
    "        return self.all_cards.pop()\n",
    "    \n"
   ]
  },
  {
   "cell_type": "markdown",
   "metadata": {},
   "source": [
    "### Hand Class"
   ]
  },
  {
   "cell_type": "code",
   "execution_count": null,
   "metadata": {},
   "outputs": [],
   "source": [
    "class Hand():\n",
    "    def __init__(self, deck_name: Deck):\n",
    "        self.hand = []\n",
    "        for i in range(2):\n",
    "            self.hand.append(deck_name.deal_one())\n",
    "\n",
    "\n",
    "    def hit(self, deck_name: Deck):\n",
    "        self.hand.append(deck_name.deal_one())\n",
    "        if(sum(self.hand) > 21):\n",
    "            print(\"You have busted\")\n",
    "            return False\n",
    "\n",
    "\n",
    "    #Return of false signals that it is not longer the players turn\n",
    "    def stand(self):\n",
    "        return False\n",
    "\n",
    "\n",
    "\n",
    "\n",
    "\n",
    "        "
   ]
  },
  {
   "cell_type": "markdown",
   "metadata": {},
   "source": [
    "#### Implement Player Class"
   ]
  },
  {
   "cell_type": "code",
   "execution_count": null,
   "metadata": {},
   "outputs": [],
   "source": [
    "class Player:\n",
    "    def __init__(self, name: str, deck_name : Deck, balance: int = 0):\n",
    "        self.balance = balance\n",
    "        self.name = name\n",
    "        self.hand = Hand(deck_name)\n",
    "\n",
    "    "
   ]
  },
  {
   "cell_type": "markdown",
   "metadata": {},
   "source": [
    "## Game Flow"
   ]
  },
  {
   "cell_type": "markdown",
   "metadata": {},
   "source": [
    "### Helper Functions"
   ]
  },
  {
   "cell_type": "code",
   "execution_count": null,
   "metadata": {},
   "outputs": [],
   "source": [
    "def request_money_amt():\n",
    "    while True:\n",
    "        try:\n",
    "            initial_money = int(input(\"How much money is in your account. (If not specified 0): \"))\n",
    "        except: \n",
    "            print(\"Please enter an integer!\")\n",
    "            continue\n",
    "        else:\n",
    "            return initial_money\n",
    "            \n",
    "\n"
   ]
  },
  {
   "cell_type": "code",
   "execution_count": null,
   "metadata": {},
   "outputs": [],
   "source": [
    "if __name__ == \"__main__\":\n",
    "\n",
    "\n",
    "    #Obtain info from Player\n",
    "    gameRunning = True\n",
    "    print(\"Welcome to Blackjack!\\n\")\n",
    "    player_name = input(\"What is your name: \")\n",
    "    initial_money = request_money_amt()\n",
    "    \n",
    "\n",
    "    #Create the deck and Player object\n",
    "    deck1 = Deck()\n",
    "    player1 = Player(player_name, deck1, initial_money)\n",
    "\n",
    "    while(gameRunning):\n",
    "        \n",
    "        \n"
   ]
  }
 ],
 "metadata": {
  "kernelspec": {
   "display_name": "base",
   "language": "python",
   "name": "python3"
  },
  "language_info": {
   "codemirror_mode": {
    "name": "ipython",
    "version": 3
   },
   "file_extension": ".py",
   "mimetype": "text/x-python",
   "name": "python",
   "nbconvert_exporter": "python",
   "pygments_lexer": "ipython3",
   "version": "3.11.4"
  },
  "orig_nbformat": 4
 },
 "nbformat": 4,
 "nbformat_minor": 2
}
